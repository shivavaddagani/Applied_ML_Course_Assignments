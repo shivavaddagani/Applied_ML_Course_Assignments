{
 "cells": [
  {
   "cell_type": "markdown",
   "metadata": {
    "colab_type": "text",
    "id": "l0ZzOlyxB-kf"
   },
   "source": [
    "<h1>Python: without numpy or sklearn </h1>"
   ]
  },
  {
   "cell_type": "markdown",
   "metadata": {},
   "source": [
    "<p style = \"background : pink\"> Importing libraries"
   ]
  },
  {
   "cell_type": "code",
   "execution_count": 1,
   "metadata": {},
   "outputs": [],
   "source": [
    "import numpy as np\n",
    "import pandas as pd"
   ]
  },
  {
   "cell_type": "markdown",
   "metadata": {
    "colab_type": "text",
    "id": "C0xO8JV9B-ki"
   },
   "source": [
    "<h3> Q1: Given two matrices please print the product of those two matrices </h3>\n",
    "<pre>\n",
    "\n",
    "Ex 1: A   = [[1 3 4]\n",
    "             [2 5 7]\n",
    "             [5 9 6]]\n",
    "      B   = [[1 0 0]\n",
    "             [0 1 0]\n",
    "             [0 0 1]]\n",
    "      A*B = [[1 3 4]\n",
    "             [2 5 7]\n",
    "             [5 9 6]]\n",
    "\n",
    "     \n",
    "Ex 2: A   = [[1 2]\n",
    "             [3 4]]\n",
    "      B   = [[1 2 3 4 5]\n",
    "             [5 6 7 8 9]]\n",
    "      A*B = [[11 14 17 20 23]\n",
    "             [23 30 36 42 51]]\n",
    "             \n",
    "Ex 3: A   = [[1 2]\n",
    "             [3 4]]\n",
    "      B   = [[1 4]\n",
    "             [5 6]\n",
    "             [7 8]\n",
    "             [9 6]]\n",
    "      A*B =Not possible\n",
    "</pre>"
   ]
  },
  {
   "cell_type": "code",
   "execution_count": 2,
   "metadata": {
    "colab": {},
    "colab_type": "code",
    "id": "rnssAfpgB-kj"
   },
   "outputs": [
    {
     "data": {
      "text/plain": [
       "array([[11, 16],\n",
       "       [15, 22]])"
      ]
     },
     "execution_count": 2,
     "metadata": {},
     "output_type": "execute_result"
    }
   ],
   "source": [
    "# write your python code here\n",
    "# you can take the above example as sample input for your program to test\n",
    "# it should work for any general input try not to hard code for only given input examples\n",
    "\n",
    "A=np.array([[2,3],[3,4]])\n",
    "B=np.array([[1,2],[3,4]])\n",
    "(A1,A2)=A.shape\n",
    "(B1,B2)=B.shape\n",
    "\n",
    "# you can free to change all these codes/structure\n",
    "# here A and B are list of lists\n",
    "def matrix_mul(A, B):\n",
    "    (A1,A2)=A.shape\n",
    "    (B1,B2)=B.shape\n",
    "    if A2 != B1 :\n",
    "        return(\"Not possible\")\n",
    "    else:\n",
    "        C = np.dot(A,B)\n",
    "        return(C)\n",
    "matrix_mul(A, B)"
   ]
  },
  {
   "cell_type": "markdown",
   "metadata": {
    "colab_type": "text",
    "id": "at4VwLggB-kn"
   },
   "source": [
    "<h3> Q2: Select a number randomly with probability proportional to its magnitude from the given array of n elements</h3>\n",
    "\n",
    "consider an experiment, selecting an element from the list A randomly with probability proportional to its magnitude.\n",
    "assume we are doing the same experiment for 100 times with replacement, in each experiment you will print a number that is selected randomly from A.\n",
    "\n",
    "<pre>\n",
    "Ex 1: A = [0 5 27 6 13 28 100 45 10 79]\n",
    "let f(x) denote the number of times x getting selected in 100 experiments.\n",
    "f(100) > f(79) > f(45) > f(28) > f(27) > f(13) > f(10) > f(6) > f(5) > f(0)\n",
    "</pre>"
   ]
  },
  {
   "cell_type": "code",
   "execution_count": 3,
   "metadata": {
    "colab": {},
    "colab_type": "code",
    "id": "B6S2dpBhB-kn"
   },
   "outputs": [
    {
     "name": "stdout",
     "output_type": "stream",
     "text": [
      "[0.0, 0.01597444089456869, 0.10223642172523961, 0.12140575079872204, 0.16293929712460065, 0.2523961661341853, 0.5718849840255591, 0.7156549520766773, 0.7476038338658146, 1.0]\n"
     ]
    },
    {
     "data": {
      "text/plain": [
       "[28,\n",
       " 79,\n",
       " 100,\n",
       " 100,\n",
       " 79,\n",
       " 100,\n",
       " 6,\n",
       " 79,\n",
       " 6,\n",
       " 79,\n",
       " 79,\n",
       " 100,\n",
       " 28,\n",
       " 45,\n",
       " 45,\n",
       " 100,\n",
       " 5,\n",
       " 28,\n",
       " 100,\n",
       " 6,\n",
       " 28,\n",
       " 100,\n",
       " 79,\n",
       " 27,\n",
       " 45,\n",
       " 28,\n",
       " 45,\n",
       " 10,\n",
       " 100,\n",
       " 79,\n",
       " 100,\n",
       " 79,\n",
       " 45,\n",
       " 79,\n",
       " 100,\n",
       " 27,\n",
       " 79,\n",
       " 28,\n",
       " 100,\n",
       " 28,\n",
       " 79,\n",
       " 79,\n",
       " 28,\n",
       " 100,\n",
       " 28,\n",
       " 100,\n",
       " 27,\n",
       " 45,\n",
       " 10,\n",
       " 79,\n",
       " 79,\n",
       " 5,\n",
       " 100,\n",
       " 45,\n",
       " 79,\n",
       " 79,\n",
       " 100,\n",
       " 100,\n",
       " 45,\n",
       " 28,\n",
       " 45,\n",
       " 45,\n",
       " 100,\n",
       " 100,\n",
       " 100,\n",
       " 45,\n",
       " 79,\n",
       " 13,\n",
       " 79,\n",
       " 45,\n",
       " 79,\n",
       " 79,\n",
       " 45,\n",
       " 45,\n",
       " 79,\n",
       " 28,\n",
       " 27,\n",
       " 45,\n",
       " 27,\n",
       " 5,\n",
       " 45,\n",
       " 45,\n",
       " 100,\n",
       " 100,\n",
       " 100,\n",
       " 79,\n",
       " 100,\n",
       " 100,\n",
       " 27,\n",
       " 79,\n",
       " 27,\n",
       " 100,\n",
       " 45,\n",
       " 100,\n",
       " 79,\n",
       " 79,\n",
       " 27,\n",
       " 79,\n",
       " 79,\n",
       " 100]"
      ]
     },
     "execution_count": 3,
     "metadata": {},
     "output_type": "execute_result"
    }
   ],
   "source": [
    "from random import uniform\n",
    "import random\n",
    "from bisect import bisect                                # this module taken from  geekfromgeeks website\n",
    "# write your python code here\n",
    "# you can take the above example as sample input for your program to test\n",
    "# it should work for any general input try not to hard code for only given input examples\n",
    "\n",
    "\n",
    "A = [0, 5, 27, 6, 13, 28, 100, 45, 10, 79]\n",
    "\n",
    "# you can free to change all these codes/structure\n",
    "def sampling_based_on_magnitued(A):\n",
    "    totsum = 0\n",
    "\n",
    "    for i in range(len(A)):                       # Adding up all the element in the list A\n",
    "        totsum += A[i]\n",
    "    prob= [A[i]/totsum for i in range(len(A))]    # Finding the probabilities of each element in A\n",
    "    \n",
    "    ############################### Creating cummulative sum #################################\n",
    "        \n",
    "    lst=[] \n",
    "    zzz=0\n",
    "    for i in range(0,len(prob)):\n",
    "        zzz += prob[i]\n",
    "        lst.append(zzz) \n",
    "     \n",
    "    print(lst)\n",
    "    ################################ Cummulative sum ends ######################################\n",
    "    num_random =[]\n",
    "    ############################### Printing randomly selected values from the list ###########\n",
    "    for i in range(100):\n",
    "            i = random.uniform(0.0,1.0)          # selecting a random number from  0 to 1           \n",
    "            p = bisect(lst, i)                   # selecting corresponding indexed value from list \n",
    "            num_random.append(A[p])              # appending 100 times\n",
    "    return num_random\n",
    "\n",
    "sampling_based_on_magnitued(A)"
   ]
  },
  {
   "cell_type": "markdown",
   "metadata": {
    "colab_type": "text",
    "id": "D1xQy2WWB-kq"
   },
   "source": [
    "<h3> Q3: Replace the digits in the string with #</h3>\n",
    "\n",
    "consider a string that will have digits in that, we need to remove all the not digits and replace the digits with #\n",
    "<pre>\n",
    "Ex 1: A = 234                Output: ###\n",
    "Ex 2: A = a2b3c4             Output: ###\n",
    "Ex 3: A = abc                Output:   (empty string)\n",
    "Ex 5: A = #2a$#b%c%561#      Output: ####\n",
    "</pre>"
   ]
  },
  {
   "cell_type": "code",
   "execution_count": 4,
   "metadata": {
    "colab": {},
    "colab_type": "code",
    "id": "fxczi2jzB-kr"
   },
   "outputs": [
    {
     "name": "stdout",
     "output_type": "stream",
     "text": [
      "###\n",
      "###\n",
      "####\n",
      "\n"
     ]
    }
   ],
   "source": [
    "import re\n",
    "# write your python code here\n",
    "# you can take the above example as sample input for your program to test\n",
    "# it should work for any general input try not to hard code for only given input examples\n",
    "\n",
    "# you can free to change all these codes/structure\n",
    "# String: it will be the input to your program\n",
    "def replace_digits(String):                            # https://www.geeksforgeeks.org/python-replace-all-numbers-by-k-in-given-string/\n",
    "    String = re.sub(\"[^0-9]\",\"\",str(String))           # https://docs.python.org/3/library/re.html\n",
    "    String = re.sub('\\d','#',String)\n",
    "    return String # modified string which is after replacing the # with digits\n",
    "\n",
    "# print(replace_digits(['234','a2b3c4','abc','#2a$#b%c%561#'])) # not working why?\n",
    "print(replace_digits('a2b3c4'))\n",
    "print(replace_digits('234'))\n",
    "print(replace_digits('#2a$#b%c%561#'))\n",
    "print(replace_digits('abc'))"
   ]
  },
  {
   "cell_type": "markdown",
   "metadata": {
    "colab_type": "text",
    "id": "j7h0Ywg7B-kw"
   },
   "source": [
    "<h3> Q4: Students marks dashboard</h3>\n",
    "\n",
    "consider the marks list of class students given two lists <br>\n",
    "Students = ['student1','student2','student3','student4','student5','student6','student7','student8','student9','student10'] <br>\n",
    "Marks = [45, 78, 12, 14, 48, 43, 45, 98, 35, 80] <br>\n",
    "from the above two lists the Student[0] got Marks[0],  Student[1] got Marks[1] and so on <br><br>\n",
    "your task is to print the name of students\n",
    "<strong>a. Who got top 5 ranks, in the descending order of marks</strong> <br>\n",
    "<strong>b. Who got least 5 ranks, in the increasing order of marks</strong><br>\n",
    "<strong>d. Who got marks between  &gt;25th percentile &lt;75th percentile, in the increasing order of marks</strong>\n",
    "\n",
    "<pre>\n",
    "Ex 1: \n",
    "Students=['student1','student2','student3','student4','student5','student6','student7','student8','student9','student10'] \n",
    "Marks = [45, 78, 12, 14, 48, 43, 47, 98, 35, 80]\n",
    "a. \n",
    "student8  98\n",
    "student10 80\n",
    "student2  78\n",
    "student5  48\n",
    "student7  47\n",
    "b.\n",
    "student3 12\n",
    "student4 14\n",
    "student9 35\n",
    "student6 43\n",
    "student1 45\n",
    "c.\n",
    "student9 35\n",
    "student6 43\n",
    "student1 45\n",
    "student7 47\n",
    "student5 48\n",
    "</pre>"
   ]
  },
  {
   "cell_type": "code",
   "execution_count": 5,
   "metadata": {
    "colab": {},
    "colab_type": "code",
    "id": "cxPJgItsB-kx"
   },
   "outputs": [
    {
     "name": "stdout",
     "output_type": "stream",
     "text": [
      "    Students  Marks\n",
      "7   student8     98\n",
      "9  student10     80\n",
      "1   student2     78\n",
      "4   student5     48\n",
      "6   student7     47    Students  Marks\n",
      "0  student1     45\n",
      "5  student6     43\n",
      "8  student9     35\n",
      "3  student4     14\n",
      "2  student3     12    Students  Marks\n",
      "0  student1     45\n",
      "4  student5     48\n",
      "5  student6     43\n",
      "6  student7     47\n"
     ]
    }
   ],
   "source": [
    "# write your python code here\n",
    "# you can take the above example as sample input for your program to test\n",
    "# it should work for any general input try not to hard code for only given input examples\n",
    "\n",
    "# you can free to change all these codes/structure\n",
    "\n",
    "Students=['student1','student2','student3','student4','student5','student6','student7','student8','student9','student10'] \n",
    "Marks = [45, 78, 12, 14, 48, 43, 47, 98, 35, 80]\n",
    "\n",
    "table_of_marks = pd.DataFrame({'Students': Students,\"Marks\" : Marks})\n",
    "\n",
    "def display_dash_board(students, marks):\n",
    "    \n",
    "    table_sorted = table_of_marks.sort_values(\"Marks\", ascending = False)  # sorting by marks in descending order\n",
    "       \n",
    "    top_5_students = table_sorted.head()     # code for computing top least 5 students\n",
    "    \n",
    "    least_5_students = table_sorted.tail()   # code for computing top least 5 students\n",
    "    \n",
    "    \n",
    "    Q1 = table_of_marks[\"Marks\"].quantile(0.25)\n",
    "    Q3 = table_of_marks[\"Marks\"].quantile(0.75)\n",
    "    IQR = table_of_marks[(table_of_marks[\"Marks\"] >= Q1) & (table_of_marks[\"Marks\"] <= Q3)]\n",
    "    \n",
    "    # write code for computing top least 5 students\n",
    "    students_within_25_and_75 = IQR\n",
    "    \n",
    "    return top_5_students, least_5_students, students_within_25_and_75\n",
    "\n",
    "top_5_students, least_5_students, students_within_25_and_75 = display_dash_board(Students, Marks)\n",
    "print(top_5_students, least_5_students, students_within_25_and_75)"
   ]
  },
  {
   "cell_type": "markdown",
   "metadata": {
    "colab_type": "text",
    "id": "qha0OhQHB-k1"
   },
   "source": [
    "<h3> Q5: Find the closest points</h3>\n",
    "\n",
    "consider you have given n data points in the form of list of tuples like S=[(x1,y1),(x2,y2),(x3,y3),(x4,y4),(x5,y5),..,(xn,yn)] and a point P=(p,q) <br> your task is to find 5 closest points(based on cosine distance) in S from P\n",
    "<br>cosine distance between two points (x,y) and (p,q) is defind as $cos^{-1}(\\frac{(x\\cdot p+y\\cdot q)}{\\sqrt(x^2+y^2)\\cdot\\sqrt(p^2+q^2)})$\n",
    "<pre>\n",
    "Ex:\n",
    "\n",
    "S= [(1,2),(3,4),(-1,1),(6,-7),(0, 6),(-5,-8),(-1,-1)(6,0),(1,-1)]\n",
    "P= (3,-4)\n",
    "<img src='https://i.imgur.com/vIFPOcG.jpg', width=300>\n",
    "Output:\n",
    "(6,-7)\n",
    "(1,-1)\n",
    "(6,0)\n",
    "(-5,-8)\n",
    "(-1,-1)\n",
    "</pre>"
   ]
  },
  {
   "cell_type": "code",
   "execution_count": 6,
   "metadata": {
    "colab": {},
    "colab_type": "code",
    "id": "wA5I1g-2B-k2"
   },
   "outputs": [
    {
     "name": "stdout",
     "output_type": "stream",
     "text": [
      "3     (6, -7)\n",
      "8     (1, -1)\n",
      "7      (6, 0)\n",
      "5    (-5, -8)\n",
      "6    (-1, -1)\n",
      "Name: S, dtype: object\n",
      "\n"
     ]
    }
   ],
   "source": [
    "import math\n",
    "\n",
    "# write your python code here\n",
    "# you can take the above example as sample input for your program to test\n",
    "# it should work for any general input try not to hard code for only given input examples\n",
    "# you can free to change all these codes/structure\n",
    "\n",
    "\n",
    "# here S is list of tuples and P is a tuple ot len=2\n",
    "def closest_points_to_p(S, P):\n",
    "        \n",
    "    cosine_distance = []\n",
    "    for a,b in S:\n",
    "        numerator = (P[0]*a + P[1]*b)\n",
    "        denominator = ((P[0]**2 + P[1]**2) * (a**2 + b**2))**0.5\n",
    "        cosine_distance.append(math.acos(numerator/denominator))\n",
    "\n",
    "    table_dist = pd.DataFrame({\"S\":S, \"cosine_distance\": cosine_distance})  # creating a dataframe so that sorting is easy\n",
    "    sorted_table = table_dist.sort_values(\"cosine_distance\")                # by default the order is ascending\n",
    "    closest_points_to_p = sorted_table[\"S\"].head()\n",
    "    print(sorted_table[\"S\"].head())                                         # printing only the points which are close to P\n",
    "    return closest_points_to_p  # its list of tuples\n",
    "\n",
    "S = [(1,2),(3,4),(-1,1),(6,-7),(0, 6),(-5,-8),(-1,-1),(6,0),(1,-1)]\n",
    "P = (3,-4)\n",
    "points = closest_points_to_p(S, P)\n",
    "print() #print the returned values"
   ]
  },
  {
   "cell_type": "markdown",
   "metadata": {
    "colab_type": "text",
    "id": "-g11jeAiB-k5"
   },
   "source": [
    "<h3> Q6: Find Which line separates oranges and apples</h3>\n",
    "consider you have given two set of data points in the form of list of tuples like \n",
    "<pre>\n",
    "Red =[(R11,R12),(R21,R22),(R31,R32),(R41,R42),(R51,R52),..,(Rn1,Rn2)]\n",
    "Blue=[(B11,B12),(B21,B22),(B31,B32),(B41,B42),(B51,B52),..,(Bm1,Bm2)]\n",
    "</pre>\n",
    "and set of line equations(in the string formate, i.e list of strings)\n",
    "<pre>\n",
    "Lines = [a1x+b1y+c1,a2x+b2y+c2,a3x+b3y+c3,a4x+b4y+c4,..,K lines]\n",
    "Note: you need to string parsing here and get the coefficients of x,y and intercept\n",
    "</pre>\n",
    "your task is to for each line that is given print \"YES\"/\"NO\", you will print yes, if all the red points are one side of the line and blue points are other side of the line, otherwise no\n",
    "<pre>\n",
    "Ex:\n",
    "Red= [(1,1),(2,1),(4,2),(2,4), (-1,4)]\n",
    "Blue= [(-2,-1),(-1,-2),(-3,-2),(-3,-1),(1,-3)]\n",
    "Lines=[\"1x+1y+0\",\"1x-1y+0\",\"1x+0y-3\",\"0x+1y-0.5\"]\n",
    "<img src='https://i.imgur.com/DoQf7mE.jpg' width=400>\n",
    "Output:\n",
    "YES\n",
    "NO\n",
    "NO\n",
    "YES\n",
    "</pre>"
   ]
  },
  {
   "cell_type": "code",
   "execution_count": 26,
   "metadata": {
    "colab": {},
    "colab_type": "code",
    "id": "eRxExaTRB-k6",
    "scrolled": true
   },
   "outputs": [
    {
     "name": "stdout",
     "output_type": "stream",
     "text": [
      "\n",
      "\n",
      "\n",
      "\n"
     ]
    }
   ],
   "source": [
    "import math\n",
    "# write your python code here\n",
    "# you can take the above example as sample input for your program to test\n",
    "# it should work for any general input try not to hard code for only given input strings\n",
    "\n",
    "\n",
    "# you can free to change all these codes/structure\n",
    "def i_am_the_one(red,blue,line):\n",
    "    # your code\n",
    "    return #yes/no\n",
    "\n",
    "Red= [(1,1),(2,1),(4,2),(2,4), (-1,4)]\n",
    "Blue= [(-2,-1),(-1,-2),(-3,-2),(-3,-1),(1,-3)]\n",
    "Lines=[\"1x+1y+0\",\"1x-1y+0\",\"1x+0y-3\",\"0x+1y-0.5\"]\n",
    "\n",
    "for i in Lines:\n",
    "    yes_or_no = i_am_the_one(Red, Blue, i)\n",
    "    print() # the returned value"
   ]
  },
  {
   "cell_type": "code",
   "execution_count": 29,
   "metadata": {},
   "outputs": [
    {
     "name": "stdout",
     "output_type": "stream",
     "text": [
      "<function sign at 0x00000241E3237C18>\n"
     ]
    }
   ],
   "source": [
    "def dist(a,b):\n",
    "    \n",
    "    # This function returns distance (here defined as 'sum') between line and the point (a,b)\n",
    "    # If sum = 0 this means point lies on the line. If sum != 0 this means points lies on one of the sides of line\n",
    "                                \n",
    "    sum = 0\n",
    "    \n",
    "    # Since I dont know how to retreive + and - symbols as operatores I am trying all 4 possible cases of expression\n",
    "    \n",
    "    if S[2] == '+' and S[5] == '+' :  \n",
    "        sum = a*coeff_x + b*coeff_y + intercept     # distance between a point and a plane\n",
    "    \n",
    "    if S[2] == '+' and S[5] == '-' :  \n",
    "        sum = a*coeff_x + b*coeff_y - intercept \n",
    "    \n",
    "    if S[2] == '-' and S[5] == '+' :   \n",
    "        sum = a*coeff_x - b*coeff_y + intercept \n",
    "    \n",
    "    if S[2] == '-' and S[5] == '-' : \n",
    "        sum = a*coeff_x - b*coeff_y - intercept \n",
    "\n",
    "    return sum\n",
    "\n",
    "def sign():\n",
    "    sign_red = []\n",
    "    sign_Blue = []\n",
    "\n",
    "    for a,b in Red:\n",
    "        sign_red.append(dist(a,b))\n",
    "    print(sign_red)\n",
    "\n",
    "    sign_blue = []\n",
    "    for a,b in Blue:\n",
    "        sign_blue.append(dist(a,b))\n",
    "    print(sign_blue)\n",
    "    \n",
    "    # ========================== finding on which side of the lines the points are ======================\n",
    "    \n",
    "    z = 0\n",
    "    for i in range(len(sign_red)):\n",
    "        if sign_red[i] >= 0:\n",
    "            z += 1\n",
    "    y = 0\n",
    "    for i in range(len(sign_blue)):\n",
    "        if sign_blue[i] >= 0:\n",
    "            y += 1    \n",
    "    \n",
    "    # ================= of all points how many points are having same sign (+ or -) ======================\n",
    "    print(z)   \n",
    "    print(y)    \n",
    "    \n",
    "        \n",
    "    # ===============Conforming whether a point lies on same side on the two lines or not ================\n",
    "    \n",
    "    if (z == len(sign_red)) & (y == 0) or (z == 0) & (y == len(sign_blue)): \n",
    "        print(\"YES\")\n",
    "    else:\n",
    "        print(\"NO\")\n",
    "    \n",
    "print(sign)"
   ]
  },
  {
   "cell_type": "code",
   "execution_count": 31,
   "metadata": {},
   "outputs": [
    {
     "name": "stdout",
     "output_type": "stream",
     "text": [
      "[2, 3, 6, 6, 3]\n",
      "[-3, -3, -5, -4, -2]\n",
      "5\n",
      "0\n",
      "YES\n",
      "[0, 1, 2, -2, -5]\n",
      "[-1, 1, -1, -2, 4]\n",
      "3\n",
      "2\n",
      "NO\n",
      "[-2, -1, 1, -1, -4]\n",
      "[-5, -4, -6, -6, -2]\n",
      "1\n",
      "0\n",
      "NO\n",
      "[1, 1, 2, 4, 4]\n",
      "[-1, -2, -2, -1, -3]\n",
      "5\n",
      "0\n",
      "YES\n"
     ]
    }
   ],
   "source": [
    "for i in range(len(Lines)):\n",
    "    S = list(Lines[i])\n",
    "    a,b = Red[0]\n",
    "    \n",
    "    # ========================== getting coefficients of given expressions =============================\n",
    "    coeff_x = int(S[0])                  \n",
    "    coeff_y = int(S[3])\n",
    "    intercept = int(S[6])\n",
    "    \n",
    "    sign()"
   ]
  },
  {
   "cell_type": "code",
   "execution_count": null,
   "metadata": {},
   "outputs": [],
   "source": []
  },
  {
   "cell_type": "markdown",
   "metadata": {
    "colab_type": "text",
    "id": "9OBpURbNB-k9"
   },
   "source": [
    "<h3> Q7: Filling the missing values in the specified formate</h3>\n",
    "You will be given a string with digits and '\\_'(missing value) symbols you have to replace the '\\_' symbols as explained \n",
    "<pre>\n",
    "Ex 1: _, _, _, 24 ==> 24/4, 24/4, 24/4, 24/4 i.e we. have distributed the 24 equally to all 4 places <br>\n",
    "Ex 2: 40, _, _, _, 60 ==> (60+40)/5,(60+40)/5,(60+40)/5,(60+40)/5,(60+40)/5 ==> 20, 20, 20, 20, 20 i.e. the sum of (60+40) is distributed qually to all 5 places<br>\n",
    "Ex 3: 80, _, _, _, _  ==> 80/5,80/5,80/5,80/5,80/5 ==> 16, 16, 16, 16, 16 i.e. the 80 is distributed qually to all 5 missing values that are right to it<br>\n",
    "Ex 4: _, _, 30, _, _, _, 50, _, _  \n",
    "==> we will fill the missing values from left to right \n",
    "    a. first we will distribute the 30 to left two missing values (10, 10, 10, _, _, _, 50, _, _)\n",
    "    b. now distribute the sum (10+50) missing values in between (10, 10, 12, 12, 12, 12, 12, _, _) \n",
    "    c. now we will distribute 12 to right side missing values (10, 10, 12, 12, 12, 12, 4, 4, 4)\n",
    "</pre>\n",
    "for a given string with comma seprate values, which will have both missing values numbers like ex: \"_, _, x, _, _, _\"\n",
    "you need fill the missing values\n",
    "\n",
    "Q: your program reads a string like ex: \"_, _, x, _, _, _\" and returns the filled sequence\n",
    "\n",
    "Ex: \n",
    "<pre>\n",
    "Input1: \"_,_,_,24\"\n",
    "Output1: 6,6,6,6\n",
    "\n",
    "Input2: \"40,_,_,_,60\"\n",
    "Output2: 20,20,20,20,20\n",
    "\n",
    "Input3: \"80,_,_,_,_\"\n",
    "Output3: 16,16,16,16,16\n",
    "\n",
    "Input4: \"_,_,30,_,_,_,50,_,_\"\n",
    "Output4: 10,10,12,12,12,12,4,4,4\n",
    "</pre>\n",
    "\n"
   ]
  },
  {
   "cell_type": "code",
   "execution_count": 32,
   "metadata": {
    "colab": {},
    "colab_type": "code",
    "id": "nZmpzHs_B-k-"
   },
   "outputs": [
    {
     "ename": "SyntaxError",
     "evalue": "unexpected EOF while parsing (<ipython-input-32-73f1a494dfa4>, line 13)",
     "output_type": "error",
     "traceback": [
      "\u001b[1;36m  File \u001b[1;32m\"<ipython-input-32-73f1a494dfa4>\"\u001b[1;36m, line \u001b[1;32m13\u001b[0m\n\u001b[1;33m    print(# print above values)\u001b[0m\n\u001b[1;37m                               ^\u001b[0m\n\u001b[1;31mSyntaxError\u001b[0m\u001b[1;31m:\u001b[0m unexpected EOF while parsing\n"
     ]
    }
   ],
   "source": [
    "# write your python code here\n",
    "# you can take the above example as sample input for your program to test\n",
    "# it should work for any general input try not to hard code for only given input strings\n",
    "\n",
    "\n",
    "# you can free to change all these codes/structure\n",
    "def curve_smoothing(string):\n",
    "    # your code\n",
    "    return #list of values\n",
    "\n",
    "S=  \"_,_,30,_,_,_,50,_,_\"\n",
    "smoothed_values= curve_smoothing(S)\n",
    "print(# print above values)"
   ]
  },
  {
   "cell_type": "code",
   "execution_count": 33,
   "metadata": {},
   "outputs": [
    {
     "name": "stdout",
     "output_type": "stream",
     "text": [
      "[10.0, 10.0, 12.0, 12.0, 12.0, 12.0, 4.0, 4.0, 4.0]\n"
     ]
    }
   ],
   "source": [
    "S=  \"_,_,30,_,_,_,50,_,_\"        # converting S to a list\n",
    "lst = S.split(\",\")\n",
    "\n",
    "k = 0\n",
    "l = 0\n",
    "m = 0\n",
    "zz= 0\n",
    "\n",
    "new_lst =[]\n",
    "\n",
    "final_lst = []\n",
    "new_lst2 = []\n",
    "for i in lst:\n",
    "    l += 1\n",
    "    if i != '_':\n",
    "        new_lst.append(int(i))\n",
    "        new_lst2.append(l)\n",
    "        k = int(i)\n",
    "        m += 1\n",
    "        \n",
    "        if m==1 :\n",
    "            for a in range(l):\n",
    "                 lst[a] = k/l\n",
    "        else:          \n",
    "            zz = int(lst[l-1])+int(lst[new_lst2[m-2]-1])\n",
    "            for x in range(new_lst2[m-2],new_lst2[m-1]+1):\n",
    "                lst[x-1] = zz/(new_lst2[m-1]-new_lst2[m-2]+1)\n",
    "    \n",
    "    if (i == '_') & (l == len(lst)) :\n",
    "        for y in range(new_lst2[m-1],l+1):\n",
    "            lst[y-1] = int(lst[new_lst2[m-2]])/(l+1 - new_lst2[m-1])\n",
    "print(lst)"
   ]
  },
  {
   "cell_type": "markdown",
   "metadata": {
    "colab_type": "text",
    "id": "RBz4pzlfB-lB"
   },
   "source": [
    "<h3> Q8: Filling the missing values in the specified formate</h3>\n",
    "You will be given a list of lists, each sublist will be of length 2 i.e. [[x,y],[p,q],[l,m]..[r,s]]\n",
    "consider its like a martrix of n rows and two columns\n",
    "1. the first column F will contain only 5 uniques values (F1, F2, F3, F4, F5)\n",
    "2. the second column S will contain only 3 uniques values (S1, S2, S3)\n",
    "<pre>\n",
    "your task is to find\n",
    "a. Probability of P(F=F1|S==S1), P(F=F1|S==S2), P(F=F1|S==S3)\n",
    "b. Probability of P(F=F2|S==S1), P(F=F2|S==S2), P(F=F2|S==S3)\n",
    "c. Probability of P(F=F3|S==S1), P(F=F3|S==S2), P(F=F3|S==S3)\n",
    "d. Probability of P(F=F4|S==S1), P(F=F4|S==S2), P(F=F4|S==S3)\n",
    "e. Probability of P(F=F5|S==S1), P(F=F5|S==S2), P(F=F5|S==S3)\n",
    "</pre>\n",
    "Ex:\n",
    "\n",
    "<pre>\n",
    "[[F1,S1],[F2,S2],[F3,S3],[F1,S2],[F2,S3],[F3,S2],[F2,S1],[F4,S1],[F4,S3],[F5,S1]]\n",
    "\n",
    "a. P(F=F1|S==S1)=1/4, P(F=F1|S==S2)=1/3, P(F=F1|S==S3)=0/3\n",
    "b. P(F=F2|S==S1)=1/4, P(F=F2|S==S2)=1/3, P(F=F2|S==S3)=1/3\n",
    "c. P(F=F3|S==S1)=0/4, P(F=F3|S==S2)=1/3, P(F=F3|S==S3)=1/3\n",
    "d. P(F=F4|S==S1)=1/4, P(F=F4|S==S2)=0/3, P(F=F4|S==S3)=1/3\n",
    "e. P(F=F5|S==S1)=1/4, P(F=F5|S==S2)=0/3, P(F=F5|S==S3)=0/3\n",
    "</pre>\n",
    "\n",
    "\n"
   ]
  },
  {
   "cell_type": "code",
   "execution_count": 34,
   "metadata": {
    "colab": {},
    "colab_type": "code",
    "id": "e-1giz1MB-lC"
   },
   "outputs": [],
   "source": [
    "# write your python code here\n",
    "# you can take the above example as sample input for your program to test\n",
    "# it should work for any general input try not to hard code for only given input strings\n",
    "\n",
    "\n",
    "\n",
    "# you can free to change all these codes/structure\n",
    "def compute_conditional_probabilites(A):\n",
    "    # your code\n",
    "    # print the output as per the instructions\n",
    "\n",
    "    A = [['F1','S1'],['F2','S2'],['F3','S3'],['F1','S2'],['F2','S3'],['F3','S2'],['F2','S1'],['F4','S1'],['F4','S3'],['F5','S1']]\n",
    "\n",
    "compute_conditional_probabilites(A)"
   ]
  },
  {
   "cell_type": "code",
   "execution_count": 35,
   "metadata": {},
   "outputs": [
    {
     "ename": "TypeError",
     "evalue": "'int' object is not subscriptable",
     "output_type": "error",
     "traceback": [
      "\u001b[1;31m---------------------------------------------------------------------------\u001b[0m",
      "\u001b[1;31mTypeError\u001b[0m                                 Traceback (most recent call last)",
      "\u001b[1;32m<ipython-input-35-d75dae09cebc>\u001b[0m in \u001b[0;36m<module>\u001b[1;34m\u001b[0m\n\u001b[0;32m     13\u001b[0m \u001b[0mlst_prob\u001b[0m \u001b[1;33m=\u001b[0m\u001b[1;33m[\u001b[0m\u001b[1;33m]\u001b[0m\u001b[1;33m\u001b[0m\u001b[1;33m\u001b[0m\u001b[0m\n\u001b[0;32m     14\u001b[0m \u001b[1;32mfor\u001b[0m \u001b[0mi\u001b[0m \u001b[1;32min\u001b[0m \u001b[0mA\u001b[0m\u001b[1;33m:\u001b[0m\u001b[1;33m\u001b[0m\u001b[1;33m\u001b[0m\u001b[0m\n\u001b[1;32m---> 15\u001b[1;33m     \u001b[0ma\u001b[0m \u001b[1;33m=\u001b[0m \u001b[0mi\u001b[0m\u001b[1;33m[\u001b[0m\u001b[1;36m0\u001b[0m\u001b[1;33m]\u001b[0m\u001b[1;33m\u001b[0m\u001b[1;33m\u001b[0m\u001b[0m\n\u001b[0m\u001b[0;32m     16\u001b[0m     \u001b[0mb\u001b[0m \u001b[1;33m=\u001b[0m \u001b[0mi\u001b[0m\u001b[1;33m[\u001b[0m\u001b[1;36m1\u001b[0m\u001b[1;33m]\u001b[0m\u001b[1;33m\u001b[0m\u001b[1;33m\u001b[0m\u001b[0m\n\u001b[0;32m     17\u001b[0m     \u001b[0mprobability\u001b[0m \u001b[1;33m=\u001b[0m \u001b[0mprob\u001b[0m\u001b[1;33m(\u001b[0m\u001b[0mi\u001b[0m\u001b[1;33m[\u001b[0m\u001b[1;36m0\u001b[0m\u001b[1;33m]\u001b[0m\u001b[1;33m,\u001b[0m\u001b[0mi\u001b[0m\u001b[1;33m[\u001b[0m\u001b[1;36m1\u001b[0m\u001b[1;33m]\u001b[0m\u001b[1;33m)\u001b[0m\u001b[1;33m\u001b[0m\u001b[1;33m\u001b[0m\u001b[0m\n",
      "\u001b[1;31mTypeError\u001b[0m: 'int' object is not subscriptable"
     ]
    }
   ],
   "source": [
    "def prob(x,y):\n",
    "    N = 0\n",
    "    D = 0\n",
    "    prob = 0\n",
    "    for a,b in A:\n",
    "        if (a==x) & (b==y):\n",
    "            N += 1\n",
    "        if b == y:\n",
    "            D += 1\n",
    "    \n",
    "    return (N/D)\n",
    "\n",
    "lst_prob =[]\n",
    "for i in A:\n",
    "    a = i[0]\n",
    "    b = i[1]\n",
    "    probability = prob(i[0],i[1])\n",
    "    lst_prob.append(probability)\n",
    "    print(\"P(F={} | S ={}) = {}\".format(a,b,probability))"
   ]
  },
  {
   "cell_type": "markdown",
   "metadata": {
    "colab_type": "text",
    "id": "n4HS87QmB-lF"
   },
   "source": [
    "## <h3> Q9: Given two sentances S1, S2</h3>\n",
    "You will be given two sentances S1, S2 your task is to find \n",
    "<pre>\n",
    "a. Number of common words between S1, S2\n",
    "b. Words in S1 but not in S2\n",
    "c. Words in S2 but not in S1\n",
    "</pre>\n",
    "\n",
    "Ex: \n",
    "<pre>\n",
    "S1= \"the first column F will contain only 5 uniques values\"\n",
    "S2= \"the second column S will contain only 3 uniques values\"\n",
    "Output:\n",
    "a. 7\n",
    "b. ['first','F','5']\n",
    "c. ['second','S','3']\n",
    "</pre>"
   ]
  },
  {
   "cell_type": "code",
   "execution_count": 36,
   "metadata": {
    "colab": {},
    "colab_type": "code",
    "id": "Ez7hlHK0B-lG"
   },
   "outputs": [
    {
     "name": "stdout",
     "output_type": "stream",
     "text": [
      "{'column', 'contain', 'only', 'will', 'the', 'uniques', 'values'} {'first', 'F', '5'} {'second', 'S', '3'}\n"
     ]
    }
   ],
   "source": [
    "# write your python code here\n",
    "# you can take the above example as sample input for your program to test\n",
    "# it should work for any general input try not to hard code for only given input strings\n",
    "\n",
    "# you can free to change all these codes/structure\n",
    "def string_features(S1, S2):\n",
    "    S1_set = set(S1.split(\" \"))\n",
    "    S2_set = set(S2.split(\" \"))\n",
    "\n",
    "    Common_words = S1_set.intersection(S2_set)\n",
    "    Words_in_S1_not_S2 = S1_set.difference(S2_set)\n",
    "    Words_in_S2_not_S1 = S2_set.difference(S1_set)\n",
    "    a = Common_words\n",
    "    b = Words_in_S1_not_S2\n",
    "    c = Words_in_S2_not_S1\n",
    "    return a, b, c\n",
    "\n",
    "S1= \"the first column F will contain only 5 uniques values\"\n",
    "S2= \"the second column S will contain only 3 uniques values\"\n",
    "a,b,c = string_features(S1, S2)\n",
    "print(a,b,c)"
   ]
  },
  {
   "cell_type": "markdown",
   "metadata": {
    "colab_type": "text",
    "id": "XefXVEjCB-lI"
   },
   "source": [
    "<h3> Q10: Given two sentances S1, S2</h3>\n",
    "You will be given a list of lists, each sublist will be of length 2 i.e. [[x,y],[p,q],[l,m]..[r,s]]\n",
    "consider its like a martrix of n rows and two columns\n",
    "\n",
    "a. the first column Y will contain interger values <br>\n",
    "b. the second column $Y_{score}$ will be having float values <br>\n",
    "Your task is to find the value of $f(Y,Y_{score}) = -1*\\frac{1}{n}\\Sigma_{for each Y,Y_{score} pair}(Ylog10(Y_{score})+(1-Y)log10(1-Y_{score}))$ here n is the number of rows in the matrix\n",
    "<pre>\n",
    "Ex:\n",
    "[[1, 0.4], [0, 0.5], [0, 0.9], [0, 0.3], [0, 0.6], [1, 0.1], [1, 0.9], [1, 0.8]]\n",
    "output:\n",
    "0.4243099\n",
    "</pre>\n",
    "$\\frac{-1}{8}\\cdot((1\\cdot log_{10}(0.4)+0\\cdot log_{10}(0.6))+(0\\cdot log_{10}(0.5)+1\\cdot log_{10}(0.5)) + ... + (1\\cdot log_{10}(0.8)+0\\cdot log_{10}(0.2)) )$"
   ]
  },
  {
   "cell_type": "code",
   "execution_count": 37,
   "metadata": {
    "colab": {},
    "colab_type": "code",
    "id": "N9zkagyNB-lJ"
   },
   "outputs": [
    {
     "name": "stdout",
     "output_type": "stream",
     "text": [
      "0.4434224864800296\n"
     ]
    }
   ],
   "source": [
    "# write your python code here\n",
    "# you can take the above example as sample input for your program to test\n",
    "# it should work for any general input try not to hard code for only given input strings\n",
    "import math\n",
    "\n",
    "# you can free to change all these codes/structure\n",
    "def compute_log_loss(A):\n",
    "    sum = 0\n",
    "    for a, b in A:\n",
    "        \n",
    "        sum += a*math.log(b)\n",
    "        loss = -sum/len(A)\n",
    "        \n",
    "    return loss\n",
    "\n",
    "A = [[1, 0.4], [0, 0.5], [0, 0.9], [0, 0.3], [0, 0.6], [1, 0.1], [1, 0.9], [1, 0.8]]\n",
    "loss = compute_log_loss(A)\n",
    "print(loss)"
   ]
  },
  {
   "cell_type": "markdown",
   "metadata": {},
   "source": [
    "# End"
   ]
  }
 ],
 "metadata": {
  "colab": {
   "collapsed_sections": [],
   "name": "1.Python Assignment.ipynb",
   "provenance": []
  },
  "kernelspec": {
   "display_name": "Python 3",
   "language": "python",
   "name": "python3"
  },
  "language_info": {
   "codemirror_mode": {
    "name": "ipython",
    "version": 3
   },
   "file_extension": ".py",
   "mimetype": "text/x-python",
   "name": "python",
   "nbconvert_exporter": "python",
   "pygments_lexer": "ipython3",
   "version": "3.7.4"
  }
 },
 "nbformat": 4,
 "nbformat_minor": 1
}
